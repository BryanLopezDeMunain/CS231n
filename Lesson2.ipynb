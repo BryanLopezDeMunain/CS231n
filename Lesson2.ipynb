{
 "cells": [
  {
   "cell_type": "markdown",
   "metadata": {},
   "source": [
    "A. Karpathy introduces the Multiclass SVM loss in the first half of the notes, let's implement it."
   ]
  },
  {
   "cell_type": "markdown",
   "metadata": {},
   "source": [
    "A. Karpathy's unvectorised version:"
   ]
  },
  {
   "cell_type": "code",
   "execution_count": 1,
   "metadata": {},
   "outputs": [],
   "source": [
    "import numpy as np\n",
    "\n",
    "def L_i(X, y ,W):\n",
    "    delta = 1.0\n",
    "    scores = W.dot(x)\n",
    "    correct_class_score = scores[y]\n",
    "    D = W.shape[0]\n",
    "    loss_i = 0.0\n",
    "\n",
    "    for j in range(D):\n",
    "        if j == y:\n",
    "            continue\n",
    "        loss_i += max(scores[j] - correct_class_score + delta, 0)\n",
    "    return loss_i"
   ]
  },
  {
   "cell_type": "markdown",
   "metadata": {},
   "source": [
    "A. Karpathy's \"half-vectorised\" version:"
   ]
  },
  {
   "cell_type": "code",
   "execution_count": 2,
   "metadata": {},
   "outputs": [],
   "source": [
    "def L_i_half_vectorised(X, y, W):\n",
    "    delta = 1.0\n",
    "    scores = W.dot(X)\n",
    "    margins = np.maximum(0, scores - scores[y] + delta)\n",
    "    margins[y] = 0\n",
    "    loss_i = np.sum(margins)\n",
    "    return loss_i"
   ]
  },
  {
   "cell_type": "markdown",
   "metadata": {},
   "source": [
    "My fully-vectorised version (left by A. Karpathy as an exercise):"
   ]
  },
  {
   "cell_type": "code",
   "execution_count": null,
   "metadata": {},
   "outputs": [],
   "source": [
    "D = W.shape[0]\n",
    "losses = np.zeros((D,))\n",
    "delta = 1.0\n",
    "scores = W.dot(X)\n",
    "\n",
    "# Define a matrix where each row is a transposed scores vector\n",
    "matrix = np.tile(x[None,:], (5, 1))\n",
    "\n",
    "# Subtract the scores vector from this matrix\n",
    "margins = matrix - scores\n",
    "\n",
    "# \"Diagonal\" elements should now all be delta (1.0 in our case), we want these to be 0.0.\n",
    "# We may want to subtract a DxD identity scaled by delta, but our 'margins' matrix is not\n",
    "# guaranteed to be square. We then concatenate a matrix of zeros that is size (D, (number of features)-D)\n",
    "# to our margins matrix.\n",
    "resized_matrix = np.concatenate(np.identity(D), np.zeros((D, (np.size(W, 1) - D))))\n",
    "loss_elements = margins - resized_matrix\n",
    "loss = np.sum(loss_elements)"
   ]
  }
 ],
 "metadata": {
  "kernelspec": {
   "display_name": "Python 3",
   "language": "python",
   "name": "python3"
  },
  "language_info": {
   "codemirror_mode": {
    "name": "ipython",
    "version": 3
   },
   "file_extension": ".py",
   "mimetype": "text/x-python",
   "name": "python",
   "nbconvert_exporter": "python",
   "pygments_lexer": "ipython3",
   "version": "3.11.9"
  }
 },
 "nbformat": 4,
 "nbformat_minor": 2
}
